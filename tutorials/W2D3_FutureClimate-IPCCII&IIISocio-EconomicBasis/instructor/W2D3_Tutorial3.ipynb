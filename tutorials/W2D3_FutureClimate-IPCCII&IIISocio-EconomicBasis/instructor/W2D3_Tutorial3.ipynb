{
 "cells": [
  {
   "attachments": {},
   "cell_type": "markdown",
   "id": "ed664fc2",
   "metadata": {
    "execution": {}
   },
   "source": [
    "[![Open In Colab](https://colab.research.google.com/assets/colab-badge.svg)](https://colab.research.google.com/github/ClimateMatchAcademy/course-content/blob/main/tutorials/W2D3_FutureClimate-IPCCII&IIISocio-EconomicBasis/W2D3_Tutorial3.ipynb) &nbsp; <a href=\"https://kaggle.com/kernels/welcome?src=https://raw.githubusercontent.com/ClimateMatchAcademy/course-content/main/tutorials/W2D3_FutureClimate-IPCCII&IIISocio-EconomicBasis/W2D3_Tutorial3.ipynb\" target=\"_parent\"><img src=\"https://kaggle.com/static/images/open-in-kaggle.svg\" alt=\"Open in Kaggle\"/></a>"
   ]
  },
  {
   "attachments": {},
   "cell_type": "markdown",
   "id": "53e42e1c",
   "metadata": {
    "execution": {},
    "vscode": {
     "languageId": "plaintext"
    }
   },
   "source": [
    "# **Tutorial 3: IAMs and SSPs**"
   ]
  },
  {
   "attachments": {},
   "cell_type": "markdown",
   "id": "27636b92",
   "metadata": {
    "execution": {}
   },
   "source": [
    "<iframe src = 'https://margo.plutojl.org/W2D3_Tutorial3.html' width=\"100%\", height=\"5000px\", noframe/>"
   ]
  },
  {
   "cell_type": "markdown",
   "id": "75938532",
   "metadata": {
    "execution": {}
   },
   "source": [
    "**⚠ Experimental LLM-enhanced tutorial ⚠**\n",
    "\n",
    "This notebook includes Climatematch's experimental [Chatify](https://github.com/ContextLab/chatify) 🤖 functionality. The Chatify notebook extension adds support for a large language model-based \"coding tutor\" to the materials. The tutor provides automatically generated text to help explain any code cell in this notebook.\n",
    "\n",
    "Note that using Chatify may cause breaking changes and/or provide incorrect or misleading information. If you wish to proceed by installing and enabling the Chatify extension, you should run the next two code blocks (hidden by default). If you do *not* want to use this experimental version of the Climatematch materials, please use the [stable](https://compclimate.neuromatch.io/) materials instead.\n",
    "\n",
    "To use the Chatify helper, insert the `%%explain` magic command at the start of any code cell and then run it (shift + enter) to access an interface for receiving LLM-based assitance. You can then select different options from the dropdown menus depending on what sort of assitance you want.  To disable Chatify and run the code block as usual, simply delete the `%%explain` command and re-run the cell.\n",
    "\n",
    "Note that, by default, all of Chatify's responses are generated locally. This often takes several minutes per response.  Once you click the \"Submit request\" button, just be patient-- stuff is happening even if you can't see it right away!\n",
    "\n",
    "Thanks for giving Chatify a try! Love it? Hate it? Either way, we'd love to hear from you about your Chatify experience!  Please consider filling out our [brief survey](https://forms.gle/jNq85KVvNwj1JHZV9) to provide feedback and help us make Chatify more awesome!\n",
    "\n",
    "**Run the next two cells to install and configure Chatify...**"
   ]
  },
  {
   "cell_type": "code",
   "execution_count": null,
   "id": "2927e1aa",
   "metadata": {
    "cellView": "form",
    "execution": {}
   },
   "outputs": [],
   "source": [
    "%pip install -q davos\n",
    "import davos\n",
    "davos.config.suppress_stdout = True"
   ]
  },
  {
   "cell_type": "code",
   "execution_count": null,
   "id": "4e6e485f",
   "metadata": {
    "cellView": "form",
    "execution": {}
   },
   "outputs": [],
   "source": [
    "smuggle chatify      # pip: git+https://github.com/ContextLab/chatify.git\n",
    "%load_ext chatify"
   ]
  }
 ],
 "metadata": {
  "colab": {
   "collapsed_sections": [],
   "include_colab_link": true,
   "name": "W2D3_Tutorial3",
   "toc_visible": true
  },
  "kernel": {
   "display_name": "Python 3",
   "language": "python",
   "name": "python3"
  },
  "kernelspec": {
   "display_name": "Python 3 (ipykernel)",
   "language": "python",
   "name": "python3"
  },
  "language_info": {
   "codemirror_mode": {
    "name": "ipython",
    "version": 3
   },
   "file_extension": ".py",
   "mimetype": "text/x-python",
   "name": "python",
   "nbconvert_exporter": "python",
   "pygments_lexer": "ipython3",
   "version": "3.10.12"
  }
 },
 "nbformat": 4,
 "nbformat_minor": 5
}
