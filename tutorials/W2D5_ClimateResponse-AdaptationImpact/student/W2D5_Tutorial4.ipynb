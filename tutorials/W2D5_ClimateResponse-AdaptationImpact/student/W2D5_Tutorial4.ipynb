{
 "cells": [
  {
   "cell_type": "markdown",
   "metadata": {
    "execution": {}
   },
   "source": [
    "[![Open In Colab](https://colab.research.google.com/assets/colab-badge.svg)](https://colab.research.google.com/github/ClimateMatchAcademy/course-content/blob/main/tutorials/W2D5_ClimateResponse-AdaptationImpact/W2D5_Tutorial4.ipynb)   <a href=\"https://kaggle.com/kernels/welcome?src=https://raw.githubusercontent.com/ClimateMatchAcademy/course-content/main/tutorials/W2D5_ClimateResponse-AdaptationImpact/W2D5_Tutorial4.ipynb\" target=\"_blank\"><img alt=\"Open in Kaggle\" src=\"https://kaggle.com/static/images/open-in-kaggle.svg\"/></a>"
   ]
  },
  {
   "cell_type": "markdown",
   "metadata": {
    "execution": {}
   },
   "source": [
    "# **Tutorial 4:  Exploring other applications**\n",
    "\n",
    "\n",
    "**Week 2, Day 5: Adaptation and Impact**\n",
    "\n",
    "__Content creators:__ Deepak Mewada, Grace Lindsay\n",
    "\n",
    "__Content reviewers:__ Dionessa Biton, Younkap Nina Duplex, Sloane Garelick, Zahra Khodakaramimaghsoud, Peter Ohue, Jenna Pearson, Derick Temfack, Peizhen Yang, Cheng Zhang, Chi Zhang, Ohad Zivan\n",
    "\n",
    "__Content editors:__ Jenna Pearson, Chi Zhang, Ohad Zivan\n",
    "\n",
    "__Production editors:__ Wesley Banfield, Jenna Pearson, Chi Zhang, Ohad Zivan\n",
    "\n",
    "**Our 2023 Sponsors:** NASA TOPS and Google DeepMind"
   ]
  },
  {
   "cell_type": "markdown",
   "metadata": {
    "execution": {}
   },
   "source": [
    "\n",
    "# **Tutorial Objective**\n",
    "\n",
    "\n",
    "The objective of this tutorial is to help you to explore and think critically about different climate-related datasets, frame problems in data science terms, and consider the potential impact of machine learning solutions in the real world. By the end of this tutorial, participants should have a better understanding of how to identify and evaluate relevant datasets, select appropriate methods and data for solving problems, and consider the ethical and practical implications of their solutions.\n"
   ]
  },
  {
   "cell_type": "markdown",
   "metadata": {},
   "source": [
    "##  Video 1: Speaker Introduction\n"
   ]
  },
  {
   "cell_type": "markdown",
   "metadata": {},
   "source": [
    "###  Video 1: Speaker Introduction\n"
   ]
  },
  {
   "cell_type": "code",
   "execution_count": null,
   "metadata": {
    "cellView": "form",
    "execution": {},
    "tags": [
     "hide-input"
    ]
   },
   "outputs": [],
   "source": [
    "# @title Video 1: Speaker Introduction\n",
    "# Tech team will add code to format and display the video"
   ]
  },
  {
   "cell_type": "markdown",
   "metadata": {
    "execution": {}
   },
   "source": [
    "\n",
    "# **Section 1: Finding Other Datasets, Identifying Applications and Considering Impact**\n"
   ]
  },
  {
   "cell_type": "markdown",
   "metadata": {
    "execution": {}
   },
   "source": [
    "\n",
    "\n",
    "## **Section 1.1:  Finding Other Datasets**\n",
    "\n"
   ]
  },
  {
   "cell_type": "markdown",
   "metadata": {
    "execution": {}
   },
   "source": [
    "Now that you know the basics of how machine learning tools can be applied to climate-related data, In this tutorial, you will explore more climate-related datasets and think about how you would approach them using machine learning tools. Specifically, you will look at the [Climate Change AI wiki](https://wiki.climatechange.ai/wiki/Buildings_and_Cities) and identify 2 to 3 papers/datasets/problems that are of interest to you and your pod."
   ]
  },
  {
   "cell_type": "markdown",
   "metadata": {
    "execution": {}
   },
   "source": [
    "\n",
    "## **Section 1.2: Framing Problems in Data Science Terms**\n"
   ]
  },
  {
   "cell_type": "markdown",
   "metadata": {
    "execution": {}
   },
   "source": [
    "Now that you have identified the datasets and papers that interest you, it's time to frame the problems in data science terms.\n",
    "\n",
    "For each problem, consider the following questions:\n",
    "\n",
    "- What kind of problem is it? Regression, classification, or something else?\n",
    "- What methods could you use to address it? What data is most important?\n",
    "- What kind of challenges might you face in trying to build a machine learning system for this problem?\n",
    "\n",
    "Write down your answers to these questions for each problem you have selected. Share your findings with your pod and discuss potential solutions."
   ]
  },
  {
   "cell_type": "markdown",
   "metadata": {
    "execution": {}
   },
   "source": [
    "## **Section 1.3: Considering Impact**"
   ]
  },
  {
   "cell_type": "markdown",
   "metadata": {
    "execution": {}
   },
   "source": [
    "Machine learning and data science can help solve several technical challenges that will be important for addressing and adapting to climate change. However, the full potential of these approaches won't be realized if they aren't appropriately and fairly integrated with companies, communities, governments, and decision makers.\n",
    "\n",
    "Discuss what needs to happen to make the models you discussed in the previous section impactful in the real world. Consider the following questions:\n",
    "\n",
    "- What are the potential hazards that need to be addressed before implementing machine learning systems for climate-related problems?\n",
    "- How can we ensure that these models are appropriately and fairly integrated into decision-making processes at different levels of government and industry?\n",
    "- How can we ensure that the models are accessible to stakeholders and the public?\n",
    "\n",
    "Work with your pod to brainstorm potential solutions to these challenges and discuss how you can work towards implementing them in your own work."
   ]
  },
  {
   "cell_type": "markdown",
   "metadata": {
    "execution": {}
   },
   "source": [
    "\n",
    "# **Summary**\n",
    "In this tutorial, we explored the importance of exploring more datasets, framing problems in data science terms, and considering impact. We encourage you to continue exploring datasets and framing problems in data science terms. Remember to consider the ethical implications of using datasets and ensure that the models are appropriately and fairly integrated with stakeholders.\n"
   ]
  },
  {
   "cell_type": "markdown",
   "metadata": {
    "execution": {}
   },
   "source": [
    "# **Resources**\n",
    "\n",
    "Climate change AI [wiki](https://wiki.climatechange.ai/wiki/Buildings_and_Cities)."
   ]
  },
  {
   "cell_type": "markdown",
   "metadata": {
    "execution": {}
   },
   "source": [
    "**⚠ Experimental LLM-enhanced tutorial ⚠**\n",
    "\n",
    "This notebook includes Climatematch's experimental [Chatify](https://github.com/ContextLab/chatify) 🤖 functionality. The Chatify notebook extension adds support for a large language model-based \"coding tutor\" to the materials. The tutor provides automatically generated text to help explain any code cell in this notebook.\n",
    "\n",
    "Note that using Chatify may cause breaking changes and/or provide incorrect or misleading information. If you wish to proceed by installing and enabling the Chatify extension, you should run the next two code blocks (hidden by default). If you do *not* want to use this experimental version of the Climatematch materials, please use the [stable](https://compclimate.neuromatch.io/) materials instead.\n",
    "\n",
    "To use the Chatify helper, insert the `%%explain` magic command at the start of any code cell and then run it (shift + enter) to access an interface for receiving LLM-based assitance. You can then select different options from the dropdown menus depending on what sort of assitance you want.  To disable Chatify and run the code block as usual, simply delete the `%%explain` command and re-run the cell.\n",
    "\n",
    "Note that, by default, all of Chatify's responses are generated locally. This often takes several minutes per response.  Once you click the \"Submit request\" button, just be patient-- stuff is happening even if you can't see it right away!\n",
    "\n",
    "Thanks for giving Chatify a try! Love it? Hate it? Either way, we'd love to hear from you about your Chatify experience!  Please consider filling out our [brief survey](https://forms.gle/jNq85KVvNwj1JHZV9) to provide feedback and help us make Chatify more awesome!\n",
    "\n",
    "**Run the next two cells to install and configure Chatify...**"
   ]
  },
  {
   "cell_type": "code",
   "execution_count": null,
   "metadata": {
    "cellView": "form",
    "execution": {}
   },
   "outputs": [],
   "source": [
    "%pip install -q davos\n",
    "import davos\n",
    "davos.config.suppress_stdout = True"
   ]
  },
  {
   "cell_type": "code",
   "execution_count": null,
   "metadata": {
    "cellView": "form",
    "execution": {}
   },
   "outputs": [],
   "source": [
    "smuggle chatify      # pip: git+https://github.com/ContextLab/chatify.git\n",
    "%load_ext chatify"
   ]
  }
 ],
 "metadata": {
  "colab": {
   "collapsed_sections": [],
   "include_colab_link": true,
   "name": "W2D5_Tutorial4",
   "provenance": [],
   "toc_visible": true
  },
  "kernel": {
   "display_name": "Python 3",
   "language": "python",
   "name": "python3"
  },
  "kernelspec": {
   "display_name": "Python 3 (ipykernel)",
   "language": "python",
   "name": "python3"
  },
  "language_info": {
   "codemirror_mode": {
    "name": "ipython",
    "version": 3
   },
   "file_extension": ".py",
   "mimetype": "text/x-python",
   "name": "python",
   "nbconvert_exporter": "python",
   "pygments_lexer": "ipython3",
   "version": "3.10.12"
  }
 },
 "nbformat": 4,
 "nbformat_minor": 4
}
